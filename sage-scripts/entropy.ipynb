{
 "cells": [
  {
   "cell_type": "code",
   "execution_count": 18,
   "id": "9f66c189-912f-4433-90f8-ea36ab9a98aa",
   "metadata": {},
   "outputs": [
    {
     "name": "stdout",
     "output_type": "stream",
     "text": [
      "Table space (GB): 32\n",
      "Rokicki's method\n",
      "Depth searched: 10\n",
      "Filled entries: 1.36365211644211e11\n",
      "Table density: 0.999999999972217\n",
      "\n",
      "My method\n",
      "Correct entries: 2.06695301120000e11\n",
      "Depth reached: 20\n",
      "Entropy: 1.29749829506245\n",
      "Table density: 1.00000000000000\n",
      "Bits used: 499.536843599044\n",
      "Bits wasted: 0.463156400956279\n"
     ]
    }
   ],
   "source": [
    "def entropy(values):\n",
    "     n = sum(values)\n",
    "     entropies = [ v/n * log(v/n, 2) if v != 0 else 0 for v in values ]\n",
    "     return -sum(entropies).n()\n",
    "\n",
    "values = [1, 18, 243, 3240, 43239, 574908, 7618438, 100803036,\n",
    " 1332343288, 17596479795, 232248063316, 3063288809012, 40374425656248,\n",
    " 531653418284628, 6989320578825358, 91365146187124313, 1100000000000000000,\n",
    " 12000000000000000000, 29000000000000000000, 1500000000000000000, 490000000]\n",
    "\n",
    "def collision_adjust(values, table_size):\n",
    "     new_values = [values[0]]\n",
    "     inserts = values[0]\n",
    "     for i in range(1, len(values)):\n",
    "         c1 = table_size * (1 - e^(-inserts/table_size))\n",
    "         inserts += values[i]\n",
    "         c2 = table_size * (1 - e^(-inserts/table_size))\n",
    "         new_values.append(n(c2 - c1))\n",
    "     return new_values\n",
    "\n",
    "def only_depths(values, max_depth):\n",
    "     new_values = values[0:max_depth + 1]\n",
    "     new_values.append(sum(values[max_depth + 1:]))\n",
    "     return new_values\n",
    "\n",
    "def stats(values, rokicki_search_depth, block_bits, entries_per_block, block_overhead, block_count):\n",
    "\n",
    "     print(\"Table space (GB):\", block_count * block_bits / 8_589_934_592)\n",
    "    \n",
    "     print(\"Rokicki's method\")\n",
    "     print(\"Depth searched:\", rokicki_search_depth)\n",
    "     table_size = (512 - 4) / 2 * block_count\n",
    "     collision_adjusted = collision_adjust(only_depths(values, rokicki_search_depth + 1), table_size)\n",
    "     filled_entries = sum(collision_adjusted[0:-1])     \n",
    "     print(\"Filled entries:\", filled_entries)\n",
    "     print(\"Table density:\", filled_entries / table_size)\n",
    "\n",
    "     print(\"\")\n",
    "     print(\"My method\")\n",
    "     table_size = block_count * entries_per_block\n",
    "\n",
    "     for i in range(0, len(values)):\n",
    "         collision_adjusted = collision_adjust(only_depths(values, i), table_size)\n",
    "         bits = entropy(collision_adjusted)\n",
    "         space_taken = bits * entries_per_block\n",
    "         effective_resident = sum(collision_adjusted[0:i])\n",
    "         if space_taken > block_bits - block_overhead:\n",
    "             break\n",
    "         else:\n",
    "             best_space_taken = space_taken\n",
    "             best_bits = bits\n",
    "             max_depth = i\n",
    "    \n",
    "     print(\"Correct entries:\", effective_resident.n())\n",
    "     print(\"Depth reached:\", max_depth)\n",
    "     print(\"Entropy:\", best_bits)\n",
    "     print(\"Table density:\", (effective_resident / (entries_per_block * block_count)).n())\n",
    "     print(\"Bits used:\", best_space_taken)\n",
    "     print(\"Bits wasted:\", block_bits - block_overhead - best_space_taken)\n",
    "\n",
    "stats(values, 10, 512, 385, 12, 2^29)"
   ]
  }
 ],
 "metadata": {
  "kernelspec": {
   "display_name": "SageMath 10.5",
   "language": "sage",
   "name": "sagemath"
  },
  "language_info": {
   "codemirror_mode": {
    "name": "ipython",
    "version": 3
   },
   "file_extension": ".py",
   "mimetype": "text/x-python",
   "name": "python",
   "nbconvert_exporter": "python",
   "pygments_lexer": "ipython3",
   "version": "3.12.8"
  }
 },
 "nbformat": 4,
 "nbformat_minor": 5
}
